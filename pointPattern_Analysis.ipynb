{
 "cells": [
  {
   "cell_type": "code",
   "execution_count": null,
   "metadata": {
    "collapsed": false
   },
   "outputs": [
    {
     "name": "stdout",
     "output_type": "stream",
     "text": [
      "(-72.976512, 41.337662) [' Thu, Sept. 18th 2014', 'all-cases-dead-on-arrival', ' 1605 WHALLEY AVE', ' AMITY/POND LILY', ' 01:53 p.m.']\n",
      "(-72.960621, 41.326316) [' Wed, Sept. 3rd 2014', 'animal-bites', ' 46 FOUNTAIN ST', ' CENTRAL/PHILIP', ' 01:23 p.m.']\n",
      "(-72.896278, 41.324366) [' Mon, Sept. 8th 2014', 'animal-bites', ' 1 LYMAN ST', ' WELTON/INTERSECTION', ' 02:33 p.m.']\n",
      "(-72.952039, 41.325584) [' Sat, Sept. 20th 2014', 'animal-bites', ' 15 DIAMOND ST', ' BLAKE/RUBY', ' 03:37 p.m.']\n",
      "(-72.956456, 41.329289) [' Sat, Sept. 20th 2014', 'animal-bites', ' 26 AUSTIN ST', ' BLAKE/HARD', ' 06:52 p.m.']\n",
      "The new_haven_merged dataset has a total average nearest neighbor distance of: "
     ]
    }
   ],
   "source": [
    "#from . import pointPattern\n",
    "#from . import point\n",
    "import pysal as ps\n",
    "import unittest\n",
    "from src.point import Point\n",
    "from src.pointPattern import PointPattern\n",
    "\n",
    "#utilize the example shapefile\n",
    "shapefile = ps.open(ps.examples.get_path('new_haven_merged.shp'))\n",
    "dbf = ps.open(ps.examples.get_path('new_haven_merged.dbf'))\n",
    "i = 0\n",
    "for geometry, attributes in zip(shapefile,dbf):\n",
    "    if i < 5:\n",
    "        print(geometry,attributes)\n",
    "    i = i +1\n",
    "\n",
    "pointList = []\n",
    "point_pattern = PointPattern()\n",
    "for geometry,attributes in zip(shapefile,dbf):\n",
    "    #create a list of points to then append to a pointPattern:\n",
    "    point_pattern.add_point(Point(geometry[0],geometry[1],[attributes[0],attributes[1],attributes[2],attributes[3],attributes[4]])) #third parameters is a list of marks\n",
    "\n",
    "#so now you have the points part of pointPattern, create an instance of pointPattern:\n",
    "\n",
    "#add points to your self.points:\n",
    "#for p in pointList:\n",
    " #       point_pattern.add_point(p)\n",
    "\n",
    "#how many points have a nearest neighbor closer than the distance \"band\" step thing\n",
    "    #okay, so now you actually have the data inside pointPattern's self.points. Now you can do some analysis:\n",
    "\n",
    "    #illustrate the use of mean nearest neighbor on the entire dataset:\n",
    "kd_avg_nn = point_pattern.kDTree_nearest_neighbor()\n",
    "print(\"The new_haven_merged dataset has a total average nearest neighbor distance of: \", kd_avg_nn)\n",
    "\n",
    "#illustrate the use of the mean nearest neighbor on a mark:\n",
    "kd_avg_nn_mark = point_pattern.kDTree_nearest_neighbor(['animal-bites'])\n",
    "print(\"The new_haven_merged dataset with the mark 'animal-bites' mark has a total average nearest neighbor distance of: \", kd_avg_nn_mark)\n",
    "\n",
    "kd_avg_nn_mark2 = point_pattern.kDTree_nearest_neighbor(['animal-bites','assault-wdangerous-weapon'])\n",
    "print(\"The new_haven_merged dataset with the mark 'animal-bites' and 'assault-wdangerous-weapon' marks has a total average nearest neighbor distance of\", kd_avg_nn_mark2)\n",
    "\n",
    "\n",
    "#ssssssillustrate the use of the g function:\n",
    "np_compute_g = point_pattern.numpy_compute_g(12)\n",
    "print(\"The new_haven_merged dataset's g function results are:\")\n",
    "for g in np_compute_g:\n",
    "    print(g)\n",
    "\n",
    "np_compute_g_mark  = point_pattern.numpy_compute_g(12,['animal-bites'])\n",
    "print(\"The new_haven_merged dataset's g function results with a mark of 'animal-bites' are: \")\n",
    "for g in np_compute_g_mark:\n",
    "    print(g)\n",
    "\n",
    "np_compute_g_mark2 = point_pattern.numpy_compute_g(12,['animal-bites','assault-wdangerous-weapon'])\n",
    "print(\"The new_haven_merged dataset's g function results with a marks of 'animal-bites' and 'assault-wdangerous-weapon' are: \")\n",
    "for g in np_compute_g_mark2:\n",
    "    print(g)\n",
    "\n"
   ]
  },
  {
   "cell_type": "code",
   "execution_count": null,
   "metadata": {
    "collapsed": true
   },
   "outputs": [],
   "source": []
  }
 ],
 "metadata": {
  "kernelspec": {
   "display_name": "Python 3",
   "language": "python",
   "name": "python3"
  },
  "language_info": {
   "codemirror_mode": {
    "name": "ipython",
    "version": 3
   },
   "file_extension": ".py",
   "mimetype": "text/x-python",
   "name": "python",
   "nbconvert_exporter": "python",
   "pygments_lexer": "ipython3",
   "version": "3.5.1"
  }
 },
 "nbformat": 4,
 "nbformat_minor": 0
}
