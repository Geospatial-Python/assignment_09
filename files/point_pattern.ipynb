{
 "cells": [
  {
   "cell_type": "code",
   "execution_count": null,
   "metadata": {},
   "outputs": [],
   "source": [
    "import pysal as ps\n",
    "from . import point_pattern\n",
    "from . import analytics\n",
    "from .point import Point\n",
    "import numpy as np"
   ]
  },
  {
   "cell_type": "code",
   "execution_count": null,
   "metadata": {},
   "outputs": [],
   "source": [
    "shapefile = ps.open(ps.examples.get_path('new_haven_merged.shp'))\n",
    "dbf = ps.open(ps.examples.get_path('new_haven_merged.dbf'))\n",
    "\n",
    "points = []\n",
    "i = 0\n",
    "for geometry, attributes in zip(shapefile, dbf):\n",
    "    i += 1\n",
    "    points.append(Point, geometry[0], geometry[1], attributes[0])\n",
    "    if i == 30:\n",
    "        break\n",
    "    print(geometry, attributes)"
   ]
  },
  {
   "cell_type": "code",
   "execution_count": null,
   "metadata": {},
   "outputs": [],
   "source": [
    "# Run a few tests to explore the dataset.\n",
    "nn = point_pattern.average_nearest_neighbor_distance_kdtree()\n",
    "print('This dataset has a nearest neighbor distance of {}'.format(nn))\n",
    "# Use your monte carlo simulation code to see if the result is statistically significant\n",
    "lower, upper = analytics.critical_points(analytics.permutations())\n",
    "if analytics.significant_distance(lower, upper, nn):\n",
    "    print('The mark is significant.')\n",
    "else: \n",
    "    print('The mark is not significant.')"
   ]
  },
  {
   "cell_type": "code",
   "execution_count": null,
   "metadata": {},
   "outputs": [],
   "source": [
    ""
   ]
  }
 ],
 "metadata": {},
 "nbformat": 4,
 "nbformat_minor": 0
}